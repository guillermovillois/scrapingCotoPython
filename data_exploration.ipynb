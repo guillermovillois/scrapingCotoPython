{
 "metadata": {
  "language_info": {
   "codemirror_mode": {
    "name": "ipython",
    "version": 3
   },
   "file_extension": ".py",
   "mimetype": "text/x-python",
   "name": "python",
   "nbconvert_exporter": "python",
   "pygments_lexer": "ipython3",
   "version": "3.7.4-final"
  },
  "orig_nbformat": 2,
  "kernelspec": {
   "name": "python37432bit21284881655c464cb14d3593fc0737ba",
   "display_name": "Python 3.7.4 32-bit"
  }
 },
 "nbformat": 4,
 "nbformat_minor": 2,
 "cells": [
  {
   "cell_type": "code",
   "execution_count": 126,
   "metadata": {},
   "outputs": [],
   "source": [
    "import sqlite3\n",
    "from product import product\n",
    "\n",
    "from datetime import date\n",
    "import pandas as pd\n",
    "\n",
    "conn = sqlite3.connect(\"coto_products2 copy.db\")\n",
    "df = pd.read_sql_query(\"SELECT * FROM products\", conn)\n",
    "conn.commit()\n",
    "conn.close()\n",
    "\n"
   ]
  },
  {
   "cell_type": "code",
   "execution_count": 2,
   "metadata": {},
   "outputs": [],
   "source": [
    "dates = df['date'].unique()\n",
    "date1=dates[0]\n",
    "date2=dates[-1]"
   ]
  },
  {
   "cell_type": "code",
   "execution_count": 149,
   "metadata": {},
   "outputs": [],
   "source": [
    "sku = df['sku'].unique()"
   ]
  },
  {
   "cell_type": "code",
   "execution_count": 128,
   "metadata": {},
   "outputs": [
    {
     "output_type": "execute_result",
     "data": {
      "text/plain": "      main_category   category            sub_category       sku  \\\n0           Almacén  Golosinas               Alfajores  00002722   \n1           Almacén  Golosinas               Alfajores  00466606   \n2           Almacén  Golosinas               Alfajores  00252320   \n3           Almacén  Golosinas               Alfajores  00252319   \n4           Almacén  Golosinas               Alfajores  00471470   \n...             ...        ...                     ...       ...   \n85322    Aire Libre   Parrilla  Accesorios De Parrilla  00474340   \n85323    Aire Libre   Parrilla  Accesorios De Parrilla  00474414   \n85324    Aire Libre   Parrilla  Accesorios De Parrilla  00474395   \n85325    Aire Libre   Parrilla  Accesorios De Parrilla  00474397   \n85326    Aire Libre   Parrilla  Accesorios De Parrilla  00468072   \n\n                                                    name     price        date  \n0              Alfajor Terrabusi Chocolate 50 Gr X 6 Uni    185.39  2020-08-23  \n1      Alfajor De Arroz Chocoarroz Chocolate 25 Gr X ...     45.59  2020-08-23  \n2      Alfajor FANTOCHE Mini Chocolate Paquete 25 Gr ...    124.62  2020-08-23  \n3      Alfajor Fantoche Mini Blanco Paquete 25 Gr 6 U...    124.62  2020-08-23  \n4                   Alfajor Tofi Chocolate 46 Gr X 6 Uni    152.35  2020-08-23  \n...                                                  ...       ...         ...  \n85322         Setx3 Juego De Asado Trinc Churrasco . . .  1,599.90  2020-09-06  \n85323    Cuchillo De Coc 6' Mgo Madera Tradicional . . .     699.9  2020-09-06  \n85324                Cuchillo De Coc 6' Ultracorte . . .     699.9  2020-09-06  \n85325      Cuchillo Cocin/ Carnicero 7' Ultracorte . . .  1,599.90  2020-09-06  \n85326                          Atizador Campagna . . . .     229.9  2020-09-06  \n\n[85327 rows x 7 columns]",
      "text/html": "<div>\n<style scoped>\n    .dataframe tbody tr th:only-of-type {\n        vertical-align: middle;\n    }\n\n    .dataframe tbody tr th {\n        vertical-align: top;\n    }\n\n    .dataframe thead th {\n        text-align: right;\n    }\n</style>\n<table border=\"1\" class=\"dataframe\">\n  <thead>\n    <tr style=\"text-align: right;\">\n      <th></th>\n      <th>main_category</th>\n      <th>category</th>\n      <th>sub_category</th>\n      <th>sku</th>\n      <th>name</th>\n      <th>price</th>\n      <th>date</th>\n    </tr>\n  </thead>\n  <tbody>\n    <tr>\n      <td>0</td>\n      <td>Almacén</td>\n      <td>Golosinas</td>\n      <td>Alfajores</td>\n      <td>00002722</td>\n      <td>Alfajor Terrabusi Chocolate 50 Gr X 6 Uni</td>\n      <td>185.39</td>\n      <td>2020-08-23</td>\n    </tr>\n    <tr>\n      <td>1</td>\n      <td>Almacén</td>\n      <td>Golosinas</td>\n      <td>Alfajores</td>\n      <td>00466606</td>\n      <td>Alfajor De Arroz Chocoarroz Chocolate 25 Gr X ...</td>\n      <td>45.59</td>\n      <td>2020-08-23</td>\n    </tr>\n    <tr>\n      <td>2</td>\n      <td>Almacén</td>\n      <td>Golosinas</td>\n      <td>Alfajores</td>\n      <td>00252320</td>\n      <td>Alfajor FANTOCHE Mini Chocolate Paquete 25 Gr ...</td>\n      <td>124.62</td>\n      <td>2020-08-23</td>\n    </tr>\n    <tr>\n      <td>3</td>\n      <td>Almacén</td>\n      <td>Golosinas</td>\n      <td>Alfajores</td>\n      <td>00252319</td>\n      <td>Alfajor Fantoche Mini Blanco Paquete 25 Gr 6 U...</td>\n      <td>124.62</td>\n      <td>2020-08-23</td>\n    </tr>\n    <tr>\n      <td>4</td>\n      <td>Almacén</td>\n      <td>Golosinas</td>\n      <td>Alfajores</td>\n      <td>00471470</td>\n      <td>Alfajor Tofi Chocolate 46 Gr X 6 Uni</td>\n      <td>152.35</td>\n      <td>2020-08-23</td>\n    </tr>\n    <tr>\n      <td>...</td>\n      <td>...</td>\n      <td>...</td>\n      <td>...</td>\n      <td>...</td>\n      <td>...</td>\n      <td>...</td>\n      <td>...</td>\n    </tr>\n    <tr>\n      <td>85322</td>\n      <td>Aire Libre</td>\n      <td>Parrilla</td>\n      <td>Accesorios De Parrilla</td>\n      <td>00474340</td>\n      <td>Setx3 Juego De Asado Trinc Churrasco . . .</td>\n      <td>1,599.90</td>\n      <td>2020-09-06</td>\n    </tr>\n    <tr>\n      <td>85323</td>\n      <td>Aire Libre</td>\n      <td>Parrilla</td>\n      <td>Accesorios De Parrilla</td>\n      <td>00474414</td>\n      <td>Cuchillo De Coc 6' Mgo Madera Tradicional . . .</td>\n      <td>699.9</td>\n      <td>2020-09-06</td>\n    </tr>\n    <tr>\n      <td>85324</td>\n      <td>Aire Libre</td>\n      <td>Parrilla</td>\n      <td>Accesorios De Parrilla</td>\n      <td>00474395</td>\n      <td>Cuchillo De Coc 6' Ultracorte . . .</td>\n      <td>699.9</td>\n      <td>2020-09-06</td>\n    </tr>\n    <tr>\n      <td>85325</td>\n      <td>Aire Libre</td>\n      <td>Parrilla</td>\n      <td>Accesorios De Parrilla</td>\n      <td>00474397</td>\n      <td>Cuchillo Cocin/ Carnicero 7' Ultracorte . . .</td>\n      <td>1,599.90</td>\n      <td>2020-09-06</td>\n    </tr>\n    <tr>\n      <td>85326</td>\n      <td>Aire Libre</td>\n      <td>Parrilla</td>\n      <td>Accesorios De Parrilla</td>\n      <td>00468072</td>\n      <td>Atizador Campagna . . . .</td>\n      <td>229.9</td>\n      <td>2020-09-06</td>\n    </tr>\n  </tbody>\n</table>\n<p>85327 rows × 7 columns</p>\n</div>"
     },
     "metadata": {},
     "execution_count": 128
    }
   ],
   "source": [
    "df"
   ]
  },
  {
   "cell_type": "code",
   "execution_count": 146,
   "metadata": {
    "tags": [
     "outputPrepend"
    ]
   },
   "outputs": [
    {
     "output_type": "stream",
     "name": "stdout",
     "text": "730\n37.53\n<class 'float'> 84731\n27.12\n<class 'str'> 84732\n1,865.88\n1,865.88\n1865.88\n<class 'float'> 84733\n131.16\n<class 'float'> 84734\n81.28\n<class 'float'> 84735\n36.71\n<class 'str'> 84736\n1,046.82\n1,046.82\n1046.82\n<class 'str'> 84737\n1,631.68\n1,631.68\n1631.68\n<class 'float'> 84738\n465.52\n<class 'float'> 84739\n70.68\n<class 'str'> 84740\n1,093.84\n1,093.84\n1093.84\n<class 'float'> 84741\n131.57\n<class 'float'> 84742\n131.57\n<class 'float'> 84743\n485.82\n<class 'float'> 84744\n478.78\n<class 'float'> 84745\n255.81\n<class 'float'> 84746\n516.01\n<class 'float'> 84747\n131.16\n<class 'float'> 84748\n131.57\n<class 'float'> 84749\n623.82\n<class 'float'> 84750\n683.7\n<class 'float'> 84751\n199.3\n<class 'float'> 84752\n81.28\n<class 'float'> 84753\n173.19\n<class 'float'> 84754\n753.57\n<class 'float'> 84755\n307.42\n<class 'float'> 84756\n141.36\n<class 'float'> 84757\n247.24\n<class 'float'> 84758\n32.63\n<class 'float'> 84759\n247.54\n<class 'float'> 84760\n193.48\n<class 'str'> 84761\n1,959.41\n1,959.41\n1959.41\n<class 'float'> 84762\n465.52\n<class 'float'> 84763\n623.82\n<class 'str'> 84764\n1,093.84\n1,093.84\n1093.84\n<class 'float'> 84765\n283.14\n<class 'float'> 84766\n235.51\n<class 'float'> 84767\n42.63\n<class 'float'> 84768\n247.54\n<class 'str'> 84769\n1,148.51\n1,148.51\n1148.51\n<class 'float'> 84770\n465.62\n<class 'str'> 84771\n1,036.21\n1,036.21\n1036.21\n<class 'float'> 84772\n40.38\n<class 'str'> 84773\n1,036.20\n1,036.20\n1036.2\n<class 'float'> 84774\n158.7\n<class 'float'> 84775\n179.31\n<class 'float'> 84776\n247.24\n<class 'float'> 84777\n40.38\n<class 'float'> 84778\n157.38\n<class 'str'> 84779\n1,489.19\n1,489.19\n1489.19\n<class 'float'> 84780\n247.54\n<class 'float'> 84781\n247.54\n<class 'float'> 84782\n277.43\n<class 'float'> 84783\n302.93\n<class 'str'> 84784\n1,066.91\n1,066.91\n1066.91\n<class 'str'> 84785\n1,036.21\n1,036.21\n1036.21\n<class 'int'> 84786\n349\n<class 'float'> 84787\n283.14\n<class 'str'> 84788\n1,099.15\n1,099.15\n1099.15\n<class 'float'> 84789\n143.2\n<class 'str'> 84790\n1,099.41\n1,099.41\n1099.41\n<class 'float'> 84791\n220.62\n<class 'float'> 84792\n277.43\n<class 'str'> 84793\n1,066.91\n1,066.91\n1066.91\n<class 'float'> 84794\n99.64\n<class 'float'> 84795\n220.62\n<class 'float'> 84796\n288.96\n<class 'float'> 84797\n187.16\n<class 'float'> 84798\n170.64\n<class 'float'> 84799\n143.1\n<class 'float'> 84800\n149.93\n<class 'float'> 84801\n149.93\n<class 'str'> 84802\n1,099.14\n1,099.14\n1099.14\n<class 'float'> 84803\n247.24\n<class 'float'> 84804\n631.37\n<class 'float'> 84805\n929.21\n<class 'str'> 84806\n1,148.51\n1,148.51\n1148.51\n<class 'float'> 84807\n199.71\n<class 'str'> 84808\n1,189.00\n1,189.00\n1189.0\n<class 'float'> 84809\n149.93\n<class 'float'> 84810\n157.48\n<class 'float'> 84811\n172.37\n<class 'float'> 84812\n133.51\n<class 'float'> 84813\n728.27\n<class 'float'> 84814\n766.62\n<class 'int'> 84815\n699\n<class 'float'> 84816\n631.37\n<class 'float'> 84817\n465.93\n<class 'float'> 84818\n141.36\n<class 'float'> 84819\n176.45\n<class 'float'> 84820\n202.26\n<class 'float'> 84821\n229.29\n<class 'float'> 84822\n716.34\n<class 'str'> 84823\n1,517.65\n1,517.65\n1517.65\n<class 'float'> 84824\n183.39\n<class 'str'> 84825\n1,099.14\n1,099.14\n1099.14\n<class 'float'> 84826\n333.02\n<class 'float'> 84827\n838.74\n<class 'float'> 84828\n632.8\n<class 'float'> 84829\n121.37\n<class 'float'> 84830\n202.97\n<class 'float'> 84831\n179.31\n<class 'int'> 84832\n799\n<class 'float'> 84833\n766.62\n<class 'float'> 84834\n488.06\n<class 'float'> 84835\n167.88\n<class 'float'> 84836\n434.2\n<class 'str'> 84837\n1,044.47\n1,044.47\n1044.47\n<class 'float'> 84838\n581.7\n<class 'float'> 84839\n285.28\n<class 'float'> 84840\n368.72\n<class 'float'> 84841\n332.82\n<class 'str'> 84842\n1,638.82\n1,638.82\n1638.82\n<class 'float'> 84843\n352.71\n<class 'float'> 84844\n133.51\n<class 'float'> 84845\n199.2\n<class 'float'> 84846\n342.71\n<class 'float'> 84847\n231.12\n<class 'float'> 84848\n199.2\n<class 'float'> 84849\n539.88\n<class 'float'> 84850\n131.57\n<class 'str'> 84851\n1,865.88\n1,865.88\n1865.88\n<class 'str'> 84852\n1,093.84\n1,093.84\n1093.84\n<class 'str'> 84853\n1,093.84\n1,093.84\n1093.84\n<class 'float'> 84854\n286.1\n<class 'float'> 84855\n247.24\n<class 'float'> 84856\n69.35\n<class 'str'> 84857\n1,148.51\n1,148.51\n1148.51\n<class 'float'> 84858\n235.51\n<class 'float'> 84859\n324.51\n<class 'float'> 84860\n443.38\n<class 'float'> 84861\n324.51\n<class 'str'> 84862\n1,959.00\n1,959.00\n1959.0\n<class 'float'> 84863\n443.38\n<class 'float'> 84864\n465.52\n<class 'float'> 84865\n334.95\n<class 'float'> 84866\n101.99\n<class 'float'> 84867\n235.51\n<class 'float'> 84868\n298.85\n<class 'float'> 84869\n471.94\n<class 'float'> 84870\n359.44\n<class 'str'> 84871\n11,999.00\n11,999.00\n11999.0\n<class 'str'> 84872\n14,999.00\n14,999.00\n14999.0\n<class 'str'> 84873\n21,000.00\n21,000.00\n21000.0\n<class 'str'> 84874\n11,999.00\n11,999.00\n11999.0\n<class 'str'> 84875\n14,499.00\n14,499.00\n14499.0\n<class 'str'> 84876\n6,499.00\n6,499.00\n6499.0\n<class 'str'> 84877\n13,999.00\n13,999.00\n13999.0\n<class 'str'> 84878\n6,499.00\n6,499.00\n6499.0\n<class 'str'> 84879\n19,499.00\n19,499.00\n19499.0\n<class 'str'> 84880\n22,499.00\n22,499.00\n22499.0\n<class 'str'> 84881\n24,999.00\n24,999.00\n24999.0\n<class 'str'> 84882\n24,999.00\n24,999.00\n24999.0\n<class 'str'> 84883\n19,499.00\n19,499.00\n19499.0\n<class 'str'> 84884\n19,499.00\n19,499.00\n19499.0\n<class 'str'> 84885\n24,999.00\n24,999.00\n24999.0\n<class 'str'> 84886\n29,999.00\n29,999.00\n29999.0\n<class 'str'> 84887\n24,999.00\n24,999.00\n24999.0\n<class 'str'> 84888\n19,499.00\n19,499.00\n19499.0\n<class 'str'> 84889\n22,499.00\n22,499.00\n22499.0\n<class 'str'> 84890\n22,499.00\n22,499.00\n22499.0\n<class 'str'> 84891\n21,999.00\n21,999.00\n21999.0\n<class 'str'> 84892\n21,999.00\n21,999.00\n21999.0\n<class 'str'> 84893\n21,999.00\n21,999.00\n21999.0\n<class 'str'> 84894\n21,999.00\n21,999.00\n21999.0\n<class 'str'> 84895\n22,499.00\n22,499.00\n22499.0\n<class 'str'> 84896\n22,999.00\n22,999.00\n22999.0\n<class 'str'> 84897\n34,500.00\n34,500.00\n34500.0\n<class 'int'> 84898\n399\n<class 'int'> 84899\n229\n<class 'int'> 84900\n570\n<class 'float'> 84901\n599.9\n<class 'int'> 84902\n188\n<class 'str'> 84903\n1,099.99\n1,099.99\n1099.99\n<class 'float'> 84904\n679.99\n<class 'str'> 84905\n2,699.99\n2,699.99\n2699.99\n<class 'float'> 84906\n759.99\n<class 'float'> 84907\n519.99\n<class 'float'> 84908\n349.99\n<class 'float'> 84909\n569.99\n<class 'str'> 84910\n2,599.99\n2,599.99\n2599.99\n<class 'str'> 84911\n2,499.90\n2,499.90\n2499.9\n<class 'str'> 84912\n1,999.99\n1,999.99\n1999.99\n<class 'float'> 84913\n209.9\n<class 'float'> 84914\n199.99\n<class 'float'> 84915\n999.9\n<class 'str'> 84916\n2,699.99\n2,699.99\n2699.99\n<class 'str'> 84917\n1,449.90\n1,449.90\n1449.9\n<class 'int'> 84918\n169\n<class 'str'> 84919\n1,579.00\n1,579.00\n1579.0\n<class 'str'> 84920\n1,449.00\n1,449.00\n1449.0\n<class 'int'> 84921\n925\n<class 'int'> 84922\n179\n<class 'int'> 84923\n879\n<class 'int'> 84924\n699\n<class 'int'> 84925\n299\n<class 'int'> 84926\n425\n<class 'str'> 84927\n1,499.00\n1,499.00\n1499.0\n<class 'int'> 84928\n599\n<class 'int'> 84929\n749\n<class 'int'> 84930\n299\n<class 'str'> 84931\n1,359.00\n1,359.00\n1359.0\n<class 'int'> 84932\n549\n<class 'int'> 84933\n799\n<class 'int'> 84934\n749\n<class 'str'> 84935\n1,339.00\n1,339.00\n1339.0\n<class 'int'> 84936\n449\n<class 'int'> 84937\n899\n<class 'int'> 84938\n145\n<class 'int'> 84939\n599\n<class 'str'> 84940\n2,699.00\n2,699.00\n2699.0\n<class 'int'> 84941\n899\n<class 'str'> 84942\n1,179.00\n1,179.00\n1179.0\n<class 'str'> 84943\n2,679.00\n2,679.00\n2679.0\n<class 'str'> 84944\n1,749.00\n1,749.00\n1749.0\n<class 'str'> 84945\n1,179.00\n1,179.00\n1179.0\n<class 'int'> 84946\n599\n<class 'int'> 84947\n699\n<class 'int'> 84948\n299\n<class 'int'> 84949\n199\n<class 'int'> 84950\n519\n<class 'str'> 84951\n1,899.00\n1,899.00\n1899.0\n<class 'str'> 84952\n8,599.00\n8,599.00\n8599.0\n<class 'str'> 84953\n1,399.00\n1,399.00\n1399.0\n<class 'int'> 84954\n279\n<class 'int'> 84955\n259\n<class 'str'> 84956\n2,055.00\n2,055.00\n2055.0\n<class 'str'> 84957\n2,055.00\n2,055.00\n2055.0\n<class 'int'> 84958\n505\n<class 'int'> 84959\n505\n<class 'int'> 84960\n669\n<class 'int'> 84961\n685\n<class 'int'> 84962\n505\n<class 'int'> 84963\n539\n<class 'int'> 84964\n539\n<class 'int'> 84965\n539\n<class 'int'> 84966\n505\n<class 'int'> 84967\n669\n<class 'int'> 84968\n685\n<class 'int'> 84969\n445\n<class 'str'> 84970\n3,359.00\n3,359.00\n3359.0\n<class 'str'> 84971\n1,139.00\n1,139.00\n1139.0\n<class 'str'> 84972\n1,139.00\n1,139.00\n1139.0\n<class 'str'> 84973\n3,359.00\n3,359.00\n3359.0\n<class 'str'> 84974\n1,139.00\n1,139.00\n1139.0\n<class 'str'> 84975\n1,139.00\n1,139.00\n1139.0\n<class 'str'> 84976\n1,139.00\n1,139.00\n1139.0\n<class 'int'> 84977\n829\n<class 'int'> 84978\n959\n<class 'str'> 84979\n9,599.00\n9,599.00\n9599.0\n<class 'str'> 84980\n52,999.00\n52,999.00\n52999.0\n<class 'str'> 84981\n102,000.00\n102,000.00\n102000.0\n<class 'str'> 84982\n68,999.00\n68,999.00\n68999.0\n<class 'str'> 84983\n79,999.00\n79,999.00\n79999.0\n<class 'str'> 84984\n54,999.90\n54,999.90\n54999.9\n<class 'str'> 84985\n83,999.00\n83,999.00\n83999.0\n<class 'str'> 84986\n54,999.90\n54,999.90\n54999.9\n<class 'str'> 84987\n63,999.00\n63,999.00\n63999.0\n<class 'str'> 84988\n31,899.00\n31,899.00\n31899.0\n<class 'str'> 84989\n5,999.90\n5,999.90\n5999.9\n<class 'str'> 84990\n17,599.00\n17,599.00\n17599.0\n<class 'str'> 84991\n19,999.00\n19,999.00\n19999.0\n<class 'str'> 84992\n14,190.00\n14,190.00\n14190.0\n<class 'str'> 84993\n7,990.00\n7,990.00\n7990.0\n<class 'str'> 84994\n11,690.00\n11,690.00\n11690.0\n<class 'str'> 84995\n3,690.00\n3,690.00\n3690.0\n<class 'str'> 84996\n7,250.00\n7,250.00\n7250.0\n<class 'str'> 84997\n19,990.00\n19,990.00\n19990.0\n<class 'str'> 84998\n3,399.00\n3,399.00\n3399.0\n<class 'str'> 84999\n8,390.00\n8,390.00\n8390.0\n<class 'str'> 85000\n5,490.00\n5,490.00\n5490.0\n<class 'str'> 85001\n18,999.00\n18,999.00\n18999.0\n<class 'str'> 85002\n5,990.00\n5,990.00\n5990.0\n<class 'str'> 85003\n13,990.00\n13,990.00\n13990.0\n<class 'str'> 85004\n12,799.00\n12,799.00\n12799.0\n<class 'str'> 85005\n16,499.00\n16,499.00\n16499.0\n<class 'str'> 85006\n5,499.00\n5,499.00\n5499.0\n<class 'str'> 85007\n5,100.00\n5,100.00\n5100.0\n<class 'str'> 85008\n12,599.00\n12,599.00\n12599.0\n<class 'str'> 85009\n4,099.00\n4,099.00\n4099.0\n<class 'str'> 85010\n11,399.00\n11,399.00\n11399.0\n<class 'str'> 85011\n6,499.00\n6,499.00\n6499.0\n<class 'str'> 85012\n13,899.00\n13,899.00\n13899.0\n<class 'str'> 85013\n12,999.00\n12,999.00\n12999.0\n<class 'str'> 85014\n3,299.00\n3,299.00\n3299.0\n<class 'str'> 85015\n6,770.00\n6,770.00\n6770.0\n<class 'str'> 85016\n16,175.00\n16,175.00\n16175.0\n<class 'str'> 85017\n21,335.00\n21,335.00\n21335.0\n<class 'str'> 85018\n4,899.00\n4,899.00\n4899.0\n<class 'str'> 85019\n11,999.00\n11,999.00\n11999.0\n<class 'str'> 85020\n12,399.00\n12,399.00\n12399.0\n<class 'int'> 85021\n799\n<class 'int'> 85022\n549\n<class 'int'> 85023\n529\n<class 'int'> 85024\n379\n<class 'int'> 85025\n99\n<class 'int'> 85026\n329\n<class 'int'> 85027\n529\n<class 'int'> 85028\n209\n<class 'int'> 85029\n209\n<class 'float'> 85030\n174.9\n<class 'float'> 85031\n124.9\n<class 'int'> 85032\n155\n<class 'int'> 85033\n485\n<class 'float'> 85034\n69.9\n<class 'int'> 85035\n309\n<class 'int'> 85036\n199\n<class 'int'> 85037\n329\n<class 'int'> 85038\n199\n<class 'int'> 85039\n245\n<class 'int'> 85040\n425\n<class 'int'> 85041\n405\n<class 'int'> 85042\n149\n<class 'int'> 85043\n69\n<class 'int'> 85044\n89\n<class 'int'> 85045\n69\n<class 'int'> 85046\n265\n<class 'int'> 85047\n89\n<class 'int'> 85048\n245\n<class 'int'> 85049\n69\n<class 'int'> 85050\n189\n<class 'int'> 85051\n89\n<class 'int'> 85052\n89\n<class 'int'> 85053\n89\n<class 'int'> 85054\n89\n<class 'int'> 85055\n89\n<class 'int'> 85056\n185\n<class 'int'> 85057\n69\n<class 'int'> 85058\n89\n<class 'int'> 85059\n69\n<class 'int'> 85060\n89\n<class 'int'> 85061\n69\n<class 'int'> 85062\n89\n<class 'int'> 85063\n89\n<class 'int'> 85064\n89\n<class 'int'> 85065\n839\n<class 'int'> 85066\n225\n<class 'int'> 85067\n69\n<class 'int'> 85068\n149\n<class 'int'> 85069\n69\n<class 'int'> 85070\n69\n<class 'int'> 85071\n225\n<class 'int'> 85072\n165\n<class 'int'> 85073\n69\n<class 'int'> 85074\n209\n<class 'int'> 85075\n470\n<class 'int'> 85076\n165\n<class 'int'> 85077\n89\n<class 'int'> 85078\n255\n<class 'int'> 85079\n255\n<class 'int'> 85080\n165\n<class 'int'> 85081\n89\n<class 'int'> 85082\n379\n<class 'int'> 85083\n255\n<class 'int'> 85084\n219\n<class 'int'> 85085\n69\n<class 'int'> 85086\n255\n<class 'int'> 85087\n255\n<class 'int'> 85088\n75\n<class 'int'> 85089\n69\n<class 'int'> 85090\n229\n<class 'int'> 85091\n235\n<class 'int'> 85092\n69\n<class 'int'> 85093\n55\n<class 'int'> 85094\n185\n<class 'int'> 85095\n189\n<class 'float'> 85096\n69.9\n<class 'int'> 85097\n329\n<class 'float'> 85098\n49.9\n<class 'int'> 85099\n145\n<class 'int'> 85100\n99\n<class 'int'> 85101\n130\n<class 'int'> 85102\n309\n<class 'int'> 85103\n109\n<class 'int'> 85104\n99\n<class 'int'> 85105\n120\n<class 'int'> 85106\n99\n<class 'int'> 85107\n249\n<class 'int'> 85108\n89\n<class 'int'> 85109\n275\n<class 'int'> 85110\n199\n<class 'int'> 85111\n99\n<class 'int'> 85112\n199\n<class 'int'> 85113\n129\n<class 'int'> 85114\n129\n<class 'int'> 85115\n199\n<class 'int'> 85116\n99\n<class 'int'> 85117\n799\n<class 'int'> 85118\n99\n<class 'int'> 85119\n429\n<class 'int'> 85120\n449\n<class 'int'> 85121\n129\n<class 'int'> 85122\n129\n<class 'int'> 85123\n249\n<class 'int'> 85124\n50\n<class 'int'> 85125\n369\n<class 'int'> 85126\n99\n<class 'float'> 85127\n359.9\n<class 'int'> 85128\n449\n<class 'str'> 85129\n1,099.00\n1,099.00\n1099.0\n<class 'float'> 85130\n359.9\n<class 'int'> 85131\n429\n<class 'int'> 85132\n399\n<class 'int'> 85133\n299\n<class 'int'> 85134\n120\n<class 'int'> 85135\n165\n<class 'int'> 85136\n85\n<class 'int'> 85137\n105\n<class 'int'> 85138\n145\n<class 'int'> 85139\n905\n<class 'int'> 85140\n130\n<class 'int'> 85141\n155\n<class 'int'> 85142\n49\n<class 'int'> 85143\n185\n<class 'int'> 85144\n139\n<class 'int'> 85145\n225\n<class 'int'> 85146\n619\n<class 'int'> 85147\n215\n<class 'int'> 85148\n249\n<class 'int'> 85149\n85\n<class 'str'> 85150\n8,999.00\n8,999.00\n8999.0\n<class 'str'> 85151\n3,499.00\n3,499.00\n3499.0\n<class 'str'> 85152\n7,999.00\n7,999.00\n7999.0\n<class 'str'> 85153\n9,999.00\n9,999.00\n9999.0\n<class 'str'> 85154\n5,999.00\n5,999.00\n5999.0\n<class 'str'> 85155\n7,499.00\n7,499.00\n7499.0\n<class 'str'> 85156\n14,999.00\n14,999.00\n14999.0\n<class 'str'> 85157\n2,799.00\n2,799.00\n2799.0\n<class 'str'> 85158\n13,999.00\n13,999.00\n13999.0\n<class 'str'> 85159\n2,799.00\n2,799.00\n2799.0\n<class 'str'> 85160\n1,799.00\n1,799.00\n1799.0\n<class 'int'> 85161\n699\n<class 'str'> 85162\n7,999.00\n7,999.00\n7999.0\n<class 'str'> 85163\n2,499.00\n2,499.00\n2499.0\n<class 'str'> 85164\n1,499.00\n1,499.00\n1499.0\n<class 'int'> 85165\n999\n<class 'int'> 85166\n499\n<class 'int'> 85167\n486\n<class 'int'> 85168\n197\n<class 'str'> 85169\n1,285.00\n1,285.00\n1285.0\n<class 'str'> 85170\n1,135.00\n1,135.00\n1135.0\n<class 'int'> 85171\n899\n<class 'int'> 85172\n99\n<class 'str'> 85173\n1,499.00\n1,499.00\n1499.0\n<class 'int'> 85174\n499\n<class 'int'> 85175\n389\n<class 'int'> 85176\n769\n<class 'int'> 85177\n699\n<class 'str'> 85178\n1,699.00\n1,699.00\n1699.0\n<class 'str'> 85179\n1,399.00\n1,399.00\n1399.0\n<class 'str'> 85180\n1,299.00\n1,299.00\n1299.0\n<class 'int'> 85181\n849\n<class 'str'> 85182\n3,699.00\n3,699.00\n3699.0\n<class 'int'> 85183\n799\n<class 'str'> 85184\n7,999.00\n7,999.00\n7999.0\n<class 'int'> 85185\n799\n<class 'int'> 85186\n639\n<class 'int'> 85187\n999\n<class 'str'> 85188\n1,199.00\n1,199.00\n1199.0\n<class 'int'> 85189\n974\n<class 'int'> 85190\n951\n<class 'int'> 85191\n898\n<class 'int'> 85192\n336\n<class 'str'> 85193\n1,153.00\n1,153.00\n1153.0\n<class 'str'> 85194\n1,188.00\n1,188.00\n1188.0\n<class 'int'> 85195\n356\n<class 'str'> 85196\n1,062.00\n1,062.00\n1062.0\n<class 'str'> 85197\n2,097.00\n2,097.00\n2097.0\n<class 'str'> 85198\n4,280.00\n4,280.00\n4280.0\n<class 'int'> 85199\n421\n<class 'int'> 85200\n580\n<class 'int'> 85201\n284\n<class 'str'> 85202\n1,188.00\n1,188.00\n1188.0\n<class 'str'> 85203\n1,050.00\n1,050.00\n1050.0\n<class 'int'> 85204\n505\n<class 'str'> 85205\n1,315.00\n1,315.00\n1315.0\n<class 'str'> 85206\n2,999.00\n2,999.00\n2999.0\n<class 'str'> 85207\n1,516.00\n1,516.00\n1516.0\n<class 'str'> 85208\n1,112.00\n1,112.00\n1112.0\n<class 'str'> 85209\n2,005.00\n2,005.00\n2005.0\n<class 'str'> 85210\n4,151.00\n4,151.00\n4151.0\n<class 'str'> 85211\n3,229.00\n3,229.00\n3229.0\n<class 'int'> 85212\n436\n<class 'int'> 85213\n228\n<class 'str'> 85214\n1,360.00\n1,360.00\n1360.0\n<class 'str'> 85215\n2,565.00\n2,565.00\n2565.0\n<class 'str'> 85216\n2,999.00\n2,999.00\n2999.0\n<class 'str'> 85217\n2,269.90\n2,269.90\n2269.9\n<class 'str'> 85218\n1,299.00\n1,299.00\n1299.0\n<class 'int'> 85219\n229\n<class 'str'> 85220\n1,999.00\n1,999.00\n1999.0\n<class 'str'> 85221\n1,299.00\n1,299.00\n1299.0\n<class 'int'> 85222\n249\n<class 'str'> 85223\n1,999.00\n1,999.00\n1999.0\n<class 'int'> 85224\n999\n<class 'str'> 85225\n2,269.90\n2,269.90\n2269.9\n<class 'str'> 85226\n1,199.00\n1,199.00\n1199.0\n<class 'int'> 85227\n499\n<class 'int'> 85228\n499\n<class 'str'> 85229\n4,999.00\n4,999.00\n4999.0\n<class 'int'> 85230\n399\n<class 'int'> 85231\n699\n<class 'str'> 85232\n2,499.00\n2,499.00\n2499.0\n<class 'str'> 85233\n2,999.00\n2,999.00\n2999.0\n<class 'str'> 85234\n1,999.00\n1,999.00\n1999.0\n<class 'str'> 85235\n3,499.00\n3,499.00\n3499.0\n<class 'str'> 85236\n2,999.00\n2,999.00\n2999.0\n<class 'str'> 85237\n1,799.00\n1,799.00\n1799.0\n<class 'int'> 85238\n499\n<class 'str'> 85239\n2,999.00\n2,999.00\n2999.0\n<class 'int'> 85240\n99\n<class 'str'> 85241\n1,799.00\n1,799.00\n1799.0\n<class 'str'> 85242\n2,999.00\n2,999.00\n2999.0\n<class 'str'> 85243\n3,999.00\n3,999.00\n3999.0\n<class 'str'> 85244\n3,999.00\n3,999.00\n3999.0\n<class 'str'> 85245\n1,199.00\n1,199.00\n1199.0\n<class 'str'> 85246\n3,499.00\n3,499.00\n3499.0\n<class 'int'> 85247\n799\n<class 'int'> 85248\n499\n<class 'str'> 85249\n2,999.00\n2,999.00\n2999.0\n<class 'str'> 85250\n1,999.00\n1,999.00\n1999.0\n<class 'str'> 85251\n2,499.00\n2,499.00\n2499.0\n<class 'str'> 85252\n1,799.00\n1,799.00\n1799.0\n<class 'str'> 85253\n2,999.00\n2,999.00\n2999.0\n<class 'int'> 85254\n249\n<class 'str'> 85255\n1,799.00\n1,799.00\n1799.0\n<class 'str'> 85256\n1,799.00\n1,799.00\n1799.0\n<class 'str'> 85257\n3,999.00\n3,999.00\n3999.0\n<class 'str'> 85258\n1,799.00\n1,799.00\n1799.0\n<class 'str'> 85259\n3,999.00\n3,999.00\n3999.0\n<class 'int'> 85260\n399\n<class 'int'> 85261\n599\n<class 'int'> 85262\n699\n<class 'str'> 85263\n2,999.00\n2,999.00\n2999.0\n<class 'int'> 85264\n99\n<class 'str'> 85265\n1,499.00\n1,499.00\n1499.0\n<class 'str'> 85266\n1,799.00\n1,799.00\n1799.0\n<class 'int'> 85267\n399\n<class 'str'> 85268\n1,499.00\n1,499.00\n1499.0\n<class 'int'> 85269\n999\n<class 'int'> 85270\n99\n<class 'str'> 85271\n2,999.00\n2,999.00\n2999.0\n<class 'str'> 85272\n1,499.00\n1,499.00\n1499.0\n<class 'str'> 85273\n1,199.00\n1,199.00\n1199.0\n<class 'int'> 85274\n249\n<class 'str'> 85275\n3,999.00\n3,999.00\n3999.0\n<class 'str'> 85276\n1,199.00\n1,199.00\n1199.0\n<class 'int'> 85277\n999\n<class 'int'> 85278\n599\n<class 'str'> 85279\n2,199.00\n2,199.00\n2199.0\n<class 'str'> 85280\n4,990.00\n4,990.00\n4990.0\n<class 'str'> 85281\n1,899.00\n1,899.00\n1899.0\n<class 'str'> 85282\n12,900.00\n12,900.00\n12900.0\n<class 'str'> 85283\n13,900.00\n13,900.00\n13900.0\n<class 'str'> 85284\n2,749.00\n2,749.00\n2749.0\n<class 'str'> 85285\n14,999.00\n14,999.00\n14999.0\n<class 'str'> 85286\n1,799.00\n1,799.00\n1799.0\n<class 'str'> 85287\n1,799.00\n1,799.00\n1799.0\n<class 'str'> 85288\n5,799.00\n5,799.00\n5799.0\n<class 'str'> 85289\n1,149.00\n1,149.00\n1149.0\n<class 'str'> 85290\n1,789.00\n1,789.00\n1789.0\n<class 'str'> 85291\n4,699.00\n4,699.00\n4699.0\n<class 'str'> 85292\n1,799.00\n1,799.00\n1799.0\n<class 'int'> 85293\n709\n<class 'str'> 85294\n1,079.00\n1,079.00\n1079.0\n<class 'str'> 85295\n1,079.00\n1,079.00\n1079.0\n<class 'int'> 85296\n709\n<class 'int'> 85297\n599\n<class 'str'> 85298\n2,899.00\n2,899.00\n2899.0\n<class 'int'> 85299\n709\n<class 'int'> 85300\n709\n<class 'str'> 85301\n1,499.00\n1,499.00\n1499.0\n<class 'str'> 85302\n1,499.00\n1,499.00\n1499.0\n<class 'str'> 85303\n1,299.00\n1,299.00\n1299.0\n<class 'str'> 85304\n1,399.00\n1,399.00\n1399.0\n<class 'str'> 85305\n3,159.00\n3,159.00\n3159.0\n<class 'str'> 85306\n1,139.00\n1,139.00\n1139.0\n<class 'str'> 85307\n7,490.00\n7,490.00\n7490.0\n<class 'str'> 85308\n11,990.00\n11,990.00\n11990.0\n<class 'int'> 85309\n189\n<class 'int'> 85310\n159\n<class 'int'> 85311\n195\n<class 'int'> 85312\n85\n<class 'int'> 85313\n214\n<class 'int'> 85314\n214\n<class 'int'> 85315\n214\n<class 'int'> 85316\n129\n<class 'int'> 85317\n159\n<class 'int'> 85318\n219\n<class 'str'> 85319\n1,299.90\n1,299.90\n1299.9\n<class 'str'> 85320\n1,099.90\n1,099.90\n1099.9\n<class 'float'> 85321\n649.9\n<class 'numpy.float64'> 85322\n1599.9\n<class 'float'> 85323\n699.9\n<class 'float'> 85324\n699.9\n<class 'numpy.float64'> 85325\n1599.9\n<class 'float'> 85326\n229.9\n"
    }
   ],
   "source": [
    "ls = df_final['price1']\n",
    "# for cada in df['price'][-5:]:\n",
    "    # print(type(cada))\n",
    "for index, row in df.iterrows():\n",
    "    print(type(row[5]), index)\n",
    "    print(df.iloc[index,5])\n",
    "    if type(row[5])==str:\n",
    "        print(row[5])\n",
    "        df.iloc[index,5]=pd.to_numeric(row[5].replace(',',''))\n",
    "        print(row[5])\n",
    "    # if type(cada)==str:\n",
    "#         # print(cada)\n",
    "#         print(pd.to_numeric(cada.replace(',','')))\n",
    "# df.iloc[-2,5]"
   ]
  },
  {
   "cell_type": "code",
   "execution_count": 152,
   "metadata": {
    "tags": []
   },
   "outputs": [
    {
     "output_type": "execute_result",
     "data": {
      "text/plain": "               sku main_category               category  \\\n0      (00002722,)       Almacén              Golosinas   \n1      (00466606,)       Almacén              Golosinas   \n2      (00252320,)       Almacén              Golosinas   \n3      (00252319,)       Almacén              Golosinas   \n4      (00471470,)       Almacén              Golosinas   \n...            ...           ...                    ...   \n14614  (00491119,)        Textil             Dormitorio   \n14615  (00491103,)        Textil             Dormitorio   \n14616  (00491120,)        Textil             Dormitorio   \n14617  (00491122,)        Textil             Dormitorio   \n14618  (00110769,)    Aire Libre  Deportes Y Ejercicios   \n\n                sub_category  \\\n0                  Alfajores   \n1                  Alfajores   \n2                  Alfajores   \n3                  Alfajores   \n4                  Alfajores   \n...                      ...   \n14614                Sabanas   \n14615                Sabanas   \n14616                Sabanas   \n14617                Sabanas   \n14618  Gimnasio Y Ejercicios   \n\n                                                    name  price1  price2  \n0              Alfajor Terrabusi Chocolate 50 Gr X 6 Uni  185.39  185.39  \n1      Alfajor De Arroz Chocoarroz Chocolate 25 Gr X ...   45.59   45.59  \n2      Alfajor FANTOCHE Mini Chocolate Paquete 25 Gr ...  124.62  124.62  \n3      Alfajor Fantoche Mini Blanco Paquete 25 Gr 6 U...  124.62  124.62  \n4                   Alfajor Tofi Chocolate 46 Gr X 6 Uni  152.35  167.59  \n...                                                  ...     ...     ...  \n14614                       Sábana King 1000 Hilos Dobby      NA    9999  \n14615                      Sábana Queen 200 Hilos Bamboo      NA    9999  \n14616                         Sábana King 600 Hilos Lisa      NA   13999  \n14617                      Sábana Queen 1000 Hilos Dobby      NA    7999  \n14618              Pesa Plastica Recargable Grande Merco      NA     179  \n\n[14619 rows x 7 columns]",
      "text/html": "<div>\n<style scoped>\n    .dataframe tbody tr th:only-of-type {\n        vertical-align: middle;\n    }\n\n    .dataframe tbody tr th {\n        vertical-align: top;\n    }\n\n    .dataframe thead th {\n        text-align: right;\n    }\n</style>\n<table border=\"1\" class=\"dataframe\">\n  <thead>\n    <tr style=\"text-align: right;\">\n      <th></th>\n      <th>sku</th>\n      <th>main_category</th>\n      <th>category</th>\n      <th>sub_category</th>\n      <th>name</th>\n      <th>price1</th>\n      <th>price2</th>\n    </tr>\n  </thead>\n  <tbody>\n    <tr>\n      <td>0</td>\n      <td>(00002722,)</td>\n      <td>Almacén</td>\n      <td>Golosinas</td>\n      <td>Alfajores</td>\n      <td>Alfajor Terrabusi Chocolate 50 Gr X 6 Uni</td>\n      <td>185.39</td>\n      <td>185.39</td>\n    </tr>\n    <tr>\n      <td>1</td>\n      <td>(00466606,)</td>\n      <td>Almacén</td>\n      <td>Golosinas</td>\n      <td>Alfajores</td>\n      <td>Alfajor De Arroz Chocoarroz Chocolate 25 Gr X ...</td>\n      <td>45.59</td>\n      <td>45.59</td>\n    </tr>\n    <tr>\n      <td>2</td>\n      <td>(00252320,)</td>\n      <td>Almacén</td>\n      <td>Golosinas</td>\n      <td>Alfajores</td>\n      <td>Alfajor FANTOCHE Mini Chocolate Paquete 25 Gr ...</td>\n      <td>124.62</td>\n      <td>124.62</td>\n    </tr>\n    <tr>\n      <td>3</td>\n      <td>(00252319,)</td>\n      <td>Almacén</td>\n      <td>Golosinas</td>\n      <td>Alfajores</td>\n      <td>Alfajor Fantoche Mini Blanco Paquete 25 Gr 6 U...</td>\n      <td>124.62</td>\n      <td>124.62</td>\n    </tr>\n    <tr>\n      <td>4</td>\n      <td>(00471470,)</td>\n      <td>Almacén</td>\n      <td>Golosinas</td>\n      <td>Alfajores</td>\n      <td>Alfajor Tofi Chocolate 46 Gr X 6 Uni</td>\n      <td>152.35</td>\n      <td>167.59</td>\n    </tr>\n    <tr>\n      <td>...</td>\n      <td>...</td>\n      <td>...</td>\n      <td>...</td>\n      <td>...</td>\n      <td>...</td>\n      <td>...</td>\n      <td>...</td>\n    </tr>\n    <tr>\n      <td>14614</td>\n      <td>(00491119,)</td>\n      <td>Textil</td>\n      <td>Dormitorio</td>\n      <td>Sabanas</td>\n      <td>Sábana King 1000 Hilos Dobby</td>\n      <td>NA</td>\n      <td>9999</td>\n    </tr>\n    <tr>\n      <td>14615</td>\n      <td>(00491103,)</td>\n      <td>Textil</td>\n      <td>Dormitorio</td>\n      <td>Sabanas</td>\n      <td>Sábana Queen 200 Hilos Bamboo</td>\n      <td>NA</td>\n      <td>9999</td>\n    </tr>\n    <tr>\n      <td>14616</td>\n      <td>(00491120,)</td>\n      <td>Textil</td>\n      <td>Dormitorio</td>\n      <td>Sabanas</td>\n      <td>Sábana King 600 Hilos Lisa</td>\n      <td>NA</td>\n      <td>13999</td>\n    </tr>\n    <tr>\n      <td>14617</td>\n      <td>(00491122,)</td>\n      <td>Textil</td>\n      <td>Dormitorio</td>\n      <td>Sabanas</td>\n      <td>Sábana Queen 1000 Hilos Dobby</td>\n      <td>NA</td>\n      <td>7999</td>\n    </tr>\n    <tr>\n      <td>14618</td>\n      <td>(00110769,)</td>\n      <td>Aire Libre</td>\n      <td>Deportes Y Ejercicios</td>\n      <td>Gimnasio Y Ejercicios</td>\n      <td>Pesa Plastica Recargable Grande Merco</td>\n      <td>NA</td>\n      <td>179</td>\n    </tr>\n  </tbody>\n</table>\n<p>14619 rows × 7 columns</p>\n</div>"
     },
     "metadata": {},
     "execution_count": 152
    }
   ],
   "source": [
    "cols = ['sku','main_category','category', 'sub_category','name','price1','price2']\n",
    "lista =[]\n",
    "sku = df['sku'].unique()\n",
    "for each in sku:\n",
    "    \n",
    "    sku = each,\n",
    "    main_category=list(df[(df['sku']==each)]['main_category'])[0]\n",
    "    category=list(df[(df['sku']==each)]['category'])[0]\n",
    "    sub_category=list(df[(df['sku']==each)]['sub_category'])[0]\n",
    "    name=list(df[(df['sku']==each)]['name'])[0]\n",
    "    try:\n",
    "        price1=list(df[(df['sku']==each) & (df['date']==date1)]['price'])[0]\n",
    "\n",
    "    except:\n",
    "        price1='NA'\n",
    "    try:\n",
    "        price2=list(df[(df['sku']==each) & (df['date']==date2)]['price'])[0]\n",
    "\n",
    "    except:\n",
    "        price2='NA'\n",
    "    # if price2=='NA' or price1=='NA':\n",
    "    #     print(name, price1,price2)\n",
    "    lista.append([sku,main_category,category,sub_category,name,price1,price2])\n",
    "\n",
    "\n",
    "df1 = pd.DataFrame(lista, columns=cols)\n",
    "df1"
   ]
  },
  {
   "cell_type": "code",
   "execution_count": 153,
   "metadata": {},
   "outputs": [],
   "source": [
    "df_final=df1[(df1['price1']!='NA') & (df1['price2']!='NA')]"
   ]
  },
  {
   "cell_type": "code",
   "execution_count": 154,
   "metadata": {},
   "outputs": [],
   "source": [
    "df_final['diff']=df_final['price2']-df_final['price1']\n",
    "# df_final[df_final['price1']].applymap(lambda x: str(x.replace(',','')))"
   ]
  },
  {
   "cell_type": "code",
   "execution_count": 160,
   "metadata": {},
   "outputs": [],
   "source": [
    "df_final.sort_values(by='%',inplace=True)"
   ]
  },
  {
   "cell_type": "code",
   "execution_count": 159,
   "metadata": {},
   "outputs": [],
   "source": [
    "df_final['%']=df_final['diff']/df_final['price1']"
   ]
  },
  {
   "cell_type": "code",
   "execution_count": 163,
   "metadata": {},
   "outputs": [],
   "source": [
    "df_final.to_csv('data.csv')"
   ]
  },
  {
   "cell_type": "code",
   "execution_count": null,
   "metadata": {},
   "outputs": [],
   "source": []
  }
 ]
}